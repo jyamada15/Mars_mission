{
 "cells": [
  {
   "cell_type": "code",
   "execution_count": 53,
   "metadata": {},
   "outputs": [],
   "source": [
    "import os\n",
    "from bs4 import BeautifulSoup as bs\n",
    "from splinter.exceptions import ElementDoesNotExist\n",
    "from splinter import Browser\n",
    "from selenium import webdriver\n",
    "import re\n",
    "import pandas as pd"
   ]
  },
  {
   "cell_type": "code",
   "execution_count": 54,
   "metadata": {},
   "outputs": [],
   "source": [
    "#executable_path = {\"C:\\\\Users\\\\Jeff\\\\Documents\\\\BootCamp\\\\HW\\\\HW13\\\\Resources\\\\chromedriver.exe\": 'C:\\\\Program Files (x86)\\\\Google\\\\Chrome\\\\Application\\\\chrome.exe'}\n",
    "executable_path = {'executable_path': \"C:\\\\Users\\\\Jeff\\\\Documents\\\\BootCamp\\\\HW\\\\HW13\\\\Resources\\\\chromedriver.exe\"}\n",
    "browser = Browser('chrome', **executable_path,headless=False)\n",
    "#driver = webdriver.Chrome(\"C:\\\\Users\\\\Jeff\\\\Documents\\\\BootCamp\\\\HW\\\\HW13\\\\Resources\\\\chromedriver.exe\")\n",
    "#driver.get('https://mars.nasa.gov/news/');\n",
    "url = 'https://mars.nasa.gov/news/'\n",
    "browser.visit(url)"
   ]
  },
  {
   "cell_type": "code",
   "execution_count": 3,
   "metadata": {},
   "outputs": [],
   "source": [
    "html = browser.html\n",
    "soup = bs(html, 'html.parser')\n",
    "# news_title = []\n",
    "# news_p = []\n"
   ]
  },
  {
   "cell_type": "code",
   "execution_count": 4,
   "metadata": {},
   "outputs": [],
   "source": [
    "# titles_body = soup.find('ul',class_='item_list')\n",
    "# news_headlines = titles_body.find_all('div', class_ = \"content_title\")\n",
    "# news_body = titles_body.find_all('div', class_='article_teaser_body')\n",
    "# for i in news_headlines:\n",
    "#     title = i.text.strip()\n",
    "#     news_title.append(title)\n",
    "    \n",
    "# for i in news_body:\n",
    "#     title_body = i.text.strip()\n",
    "#     news_p.append(title_body)\n",
    "    "
   ]
  },
  {
   "cell_type": "code",
   "execution_count": 5,
   "metadata": {},
   "outputs": [],
   "source": [
    "titles_body = soup.find('ul',class_='item_list')\n",
    "news_title = titles_body.find('div', class_ = \"content_title\").text.strip()\n",
    "news_p = titles_body.find('div', class_='article_teaser_body').text.strip()\n",
    "# for i in news_headlines:\n",
    "#     title = i.text.strip()\n",
    "#     news_title.append(title)\n",
    "    \n",
    "# for i in news_body:\n",
    "#     title_body = i.text.strip()\n",
    "#     news_p.append(title_body)\n",
    "    "
   ]
  },
  {
   "cell_type": "code",
   "execution_count": 6,
   "metadata": {},
   "outputs": [
    {
     "data": {
      "text/plain": [
       "'A pair of NASA CubeSats flying to Mars are opening a new frontier for small spacecraft.'"
      ]
     },
     "execution_count": 6,
     "metadata": {},
     "output_type": "execute_result"
    }
   ],
   "source": [
    "news_p"
   ]
  },
  {
   "cell_type": "code",
   "execution_count": 7,
   "metadata": {},
   "outputs": [],
   "source": [
    "url = 'https://www.jpl.nasa.gov/spaceimages/?search=&category=Mars'\n",
    "browser.visit(url)"
   ]
  },
  {
   "cell_type": "code",
   "execution_count": 8,
   "metadata": {},
   "outputs": [],
   "source": [
    "html = browser.html\n",
    "soup = bs(html, 'html.parser')"
   ]
  },
  {
   "cell_type": "code",
   "execution_count": 9,
   "metadata": {},
   "outputs": [],
   "source": [
    "featured_button=soup.find(\"a\", {\"id\": \"full_image\"})"
   ]
  },
  {
   "cell_type": "code",
   "execution_count": 10,
   "metadata": {},
   "outputs": [
    {
     "name": "stdout",
     "output_type": "stream",
     "text": [
      "['/spaceimages/images/mediumsize/PIA13911_ip.jpg']\n",
      "https://www.jpl.nasa.gov/spaceimages/images/mediumsize/PIA13911_ip.jpg\n"
     ]
    },
    {
     "data": {
      "text/plain": [
       "'/spaceimages/images/mediumsize/PIA13911_ip.jpg'"
      ]
     },
     "execution_count": 10,
     "metadata": {},
     "output_type": "execute_result"
    }
   ],
   "source": [
    "str_fb = str(featured_button)\n",
    "\n",
    "img_string = re.findall(r'data-fancybox-href=\"(.*?)\" data-title',str_fb)\n",
    "print(img_string)\n",
    "string_form_of_link = ''.join(img_string)\n",
    "featured_image_url = ('https://www.jpl.nasa.gov' + string_form_of_link)\n",
    "print(featured_image_url)\n",
    "string_form_of_link"
   ]
  },
  {
   "cell_type": "code",
   "execution_count": 76,
   "metadata": {},
   "outputs": [
    {
     "data": {
      "text/plain": [
       "'/spaceimages/images/mediumsize/PIA13911_ip.jpg'"
      ]
     },
     "execution_count": 76,
     "metadata": {},
     "output_type": "execute_result"
    }
   ],
   "source": []
  },
  {
   "cell_type": "code",
   "execution_count": 11,
   "metadata": {},
   "outputs": [],
   "source": [
    "# featured_button=soup.find(\"a\", {\"id\": \"full_image\"})\n",
    "# #featured_button"
   ]
  },
  {
   "cell_type": "code",
   "execution_count": 12,
   "metadata": {},
   "outputs": [],
   "source": [
    "footer_body = soup.find('footer')\n",
    "footer_desc = footer_body.find('a', class_='button fancybox')\n",
    "featured_image_desc = footer_desc['data-description']"
   ]
  },
  {
   "cell_type": "code",
   "execution_count": 13,
   "metadata": {},
   "outputs": [],
   "source": [
    "# str_fb = str(featured_button)\n",
    "\n",
    "# img_string = re.findall(r'data-link=\"(.*?)\" data-title',str_fb)\n",
    "# print(img_string)\n",
    "# string_form_of_link = ''.join(img_string)\n",
    "# featured_image_url = ('https://www.jpl.nasa.gov' + string_form_of_link)\n",
    "# #print(featured_image_url)\n",
    "# string_form_of_link"
   ]
  },
  {
   "cell_type": "code",
   "execution_count": 14,
   "metadata": {},
   "outputs": [],
   "source": [
    "url = 'https://twitter.com/marswxreport?lang=en'\n",
    "browser.visit(url)"
   ]
  },
  {
   "cell_type": "code",
   "execution_count": 15,
   "metadata": {},
   "outputs": [],
   "source": [
    "html = browser.html\n",
    "soup = bs(html, 'html.parser')"
   ]
  },
  {
   "cell_type": "code",
   "execution_count": 16,
   "metadata": {},
   "outputs": [],
   "source": [
    "recent_tweet_info = soup.find('p', class_='TweetTextSize')\n",
    "recent_tweet = recent_tweet_info.text.strip()\n",
    "#print(recent_tweet)\n"
   ]
  },
  {
   "cell_type": "code",
   "execution_count": 17,
   "metadata": {},
   "outputs": [
    {
     "data": {
      "text/plain": [
       "'Sol 2169 (2018-09-12), high -10C/14F, low -70C/-93F, pressure at 8.82 hPa, daylight 05:41-17:58'"
      ]
     },
     "execution_count": 17,
     "metadata": {},
     "output_type": "execute_result"
    }
   ],
   "source": [
    "recent_tweet\n"
   ]
  },
  {
   "cell_type": "code",
   "execution_count": 18,
   "metadata": {},
   "outputs": [],
   "source": [
    "url = 'http://space-facts.com/mars/'\n",
    "browser.visit(url)"
   ]
  },
  {
   "cell_type": "code",
   "execution_count": 19,
   "metadata": {},
   "outputs": [],
   "source": [
    "html = browser.html\n",
    "soup=bs(html,'html.parser')"
   ]
  },
  {
   "cell_type": "code",
   "execution_count": 20,
   "metadata": {},
   "outputs": [],
   "source": [
    "mf_list = []\n",
    "mf_equatorial_diameter = []\n",
    "mf_polar_diameter = []\n",
    "mf_mass = []\n",
    "mf_moons = []\n",
    "mf_orbit_distance = []\n",
    "mf_orbit_period = []\n",
    "mf_surface_temperature = []\n",
    "mf_first_record = []\n",
    "mf_recorded_by = []"
   ]
  },
  {
   "cell_type": "code",
   "execution_count": 21,
   "metadata": {},
   "outputs": [],
   "source": [
    "# mf_pd = pd.DataFrame(columns=['Equatorial Diameter','Polar Diameter', 'Mass', 'Moons', 'Orbit Distance','Orbit Period', 'Surface Temperature', 'First Record', 'Recorded By'])\n",
    "mf_pd = pd.DataFrame(columns=['Description','Value'])\n",
    "mf_desc_list = ['Equatorial Diameter','Polar Diameter', 'Mass', 'Moons', 'Orbit Distance','Orbit Period', 'Surface Temperature', 'First Record', 'Recorded By']"
   ]
  },
  {
   "cell_type": "code",
   "execution_count": 22,
   "metadata": {},
   "outputs": [],
   "source": [
    "table_body = soup.find('table', id='tablepress-mars')\n",
    "table_body2 = table_body.find_all('tr')\n",
    "\n",
    "for row in table_body.findAll('tr'):\n",
    "    cells = row.findAll('td')\n",
    "    info = cells[1].text.strip()\n",
    "    mf_list.append(info)\n",
    "    \n",
    "# mf_list"
   ]
  },
  {
   "cell_type": "code",
   "execution_count": 23,
   "metadata": {
    "scrolled": true
   },
   "outputs": [],
   "source": [
    "mf_pd['Description']=mf_desc_list\n",
    "mf_pd['Value']=mf_list\n",
    "# mf_pd\n"
   ]
  },
  {
   "cell_type": "code",
   "execution_count": 24,
   "metadata": {},
   "outputs": [],
   "source": [
    "html_mf_pd = mf_pd.to_html()"
   ]
  },
  {
   "cell_type": "code",
   "execution_count": 59,
   "metadata": {},
   "outputs": [],
   "source": [
    "url = 'https://astrogeology.usgs.gov/search/results?q=hemisphere+enhanced&k1=target&v1=Mars'\n",
    "base_url = 'https://astrogeology.usgs.gov'\n",
    "browser.visit(url)"
   ]
  },
  {
   "cell_type": "code",
   "execution_count": 60,
   "metadata": {},
   "outputs": [],
   "source": [
    "html = browser.html\n",
    "soup=bs(html,'html.parser')"
   ]
  },
  {
   "cell_type": "code",
   "execution_count": 61,
   "metadata": {},
   "outputs": [],
   "source": [
    "hemisphere_image_urls = []\n",
    "\n",
    "hemisphere_links = []\n",
    "item_body = soup.find('div', class_='collapsible results')\n",
    "item_link = item_body.findAll('div', class_='item')\n",
    "\n",
    "for links in item_link:\n",
    "    for link in links.find_all('a', text=True):\n",
    "        link2 = link.get('href')\n",
    "        hemisphere_links.append(link2)\n",
    "    \n",
    "# hemisphere_links \n"
   ]
  },
  {
   "cell_type": "code",
   "execution_count": 70,
   "metadata": {
    "scrolled": true
   },
   "outputs": [
    {
     "name": "stdout",
     "output_type": "stream",
     "text": [
      "0\n",
      "{'title': 'Cerberus Hemisphere Enhanced', 'img_url': 'http://astropedia.astrogeology.usgs.gov/download/Mars/Viking/cerberus_enhanced.tif/full.jpg'}\n",
      "1\n",
      "{'title': 'Schiaparelli Hemisphere Enhanced', 'img_url': 'http://astropedia.astrogeology.usgs.gov/download/Mars/Viking/schiaparelli_enhanced.tif/full.jpg'}\n",
      "2\n",
      "{'title': 'Syrtis Major Hemisphere Enhanced', 'img_url': 'http://astropedia.astrogeology.usgs.gov/download/Mars/Viking/syrtis_major_enhanced.tif/full.jpg'}\n",
      "3\n",
      "{'title': 'Valles Marineris Hemisphere Enhanced', 'img_url': 'http://astropedia.astrogeology.usgs.gov/download/Mars/Viking/valles_marineris_enhanced.tif/full.jpg'}\n"
     ]
    }
   ],
   "source": [
    "hemisphere_title = []\n",
    "hemisphere_url = []\n",
    "for link in range(len(hemisphere_links)):\n",
    "    hemi_dict = {}\n",
    "    new_url = base_url+hemisphere_links[link]\n",
    "    browser.visit(new_url)\n",
    "    sample_img= browser.find_link_by_text('Sample').first\n",
    "    hemisphere_url.append(sample_img['href'])\n",
    "    \n",
    "    html = browser.html\n",
    "    soup = bs(html,'html.parser')\n",
    "    title=soup.find('h2', class_='title').text.strip()\n",
    "    hemisphere_title.append(title)\n",
    "    \n",
    "    browser.visit(url)    \n",
    "\n",
    "# hemisphere_image_urls"
   ]
  },
  {
   "cell_type": "code",
   "execution_count": 71,
   "metadata": {
    "scrolled": true
   },
   "outputs": [],
   "source": [
    "hemiphere_dict = {\n",
    "    \"title\": hemisphere_title,\n",
    "    \"img_url\": hemisphere_url    \n",
    "}\n"
   ]
  },
  {
   "cell_type": "code",
   "execution_count": 29,
   "metadata": {},
   "outputs": [],
   "source": [
    "browser.quit()"
   ]
  },
  {
   "cell_type": "code",
   "execution_count": 30,
   "metadata": {},
   "outputs": [
    {
     "name": "stderr",
     "output_type": "stream",
     "text": [
      "[TerminalIPythonApp] WARNING | Subcommand `ipython nbconvert` is deprecated and will be removed in future versions.\n",
      "[TerminalIPythonApp] WARNING | You likely want to use `jupyter nbconvert` in the future\n",
      "[NbConvertApp] Converting notebook mission_to_mars.ipynb to python\n",
      "[NbConvertApp] Writing 6552 bytes to mission_to_mars.py\n"
     ]
    }
   ],
   "source": [
    "#!ipython nbconvert --to=python mission_to_mars.ipynb"
   ]
  },
  {
   "cell_type": "code",
   "execution_count": 31,
   "metadata": {},
   "outputs": [],
   "source": [
    "# for link in range(len(hemisphere_links)):\n",
    "#     hemisphere_dict = {}\n",
    "#     browser.hemisphere_links[link].click()\n",
    "#     sample_img= browser.find_link_by_text('Sample').first\n",
    "#     hemisphere_dict['img_url'] = sample_img['href']\n",
    "    \n",
    "#     html = browser.html\n",
    "#     soup = bs(html,'html.parser')\n",
    "#     title=soup.find('h2', class_='title')\n",
    "#     hemisphere_dict['title'] = title\n",
    "#     hemisphere_image_urls.append(hemisphere_dict)\n",
    "#     browser.back()\n",
    "    \n",
    "# hemisphere_image_urls"
   ]
  },
  {
   "cell_type": "code",
   "execution_count": 32,
   "metadata": {},
   "outputs": [],
   "source": [
    "# html = browser.html\n",
    "# soup = bs(html,'html.parser')\n",
    "# html_body = soup.find('div', class_='downloads')\n",
    "# html_list = html_body.find('a')\n",
    "# link2 = link.get('href')\n",
    "# link2"
   ]
  },
  {
   "cell_type": "code",
   "execution_count": 33,
   "metadata": {},
   "outputs": [],
   "source": [
    "# html = browser.html\n",
    "# soup = bs(html,'html.parser')\n",
    "# link3=soup.find('h2', class_='title')\n",
    "# print(link3)"
   ]
  },
  {
   "cell_type": "code",
   "execution_count": 34,
   "metadata": {},
   "outputs": [],
   "source": [
    "#<img class=\"thumb\" src=\"/cache/images/dfaf3849e74bf973b59eb50dab52b583_cerberus_enhanced.tif_thumb.png\" alt=\"Cerberus Hemisphere Enhanced thumbnail\">"
   ]
  },
  {
   "cell_type": "code",
   "execution_count": 35,
   "metadata": {},
   "outputs": [],
   "source": [
    "#<a target=\"_blank\" href=\"http://astropedia.astrogeology.usgs.gov/download/Mars/Viking/cerberus_enhanced.tif\">Original</a>"
   ]
  },
  {
   "cell_type": "code",
   "execution_count": null,
   "metadata": {},
   "outputs": [],
   "source": []
  },
  {
   "cell_type": "code",
   "execution_count": null,
   "metadata": {},
   "outputs": [],
   "source": []
  },
  {
   "cell_type": "code",
   "execution_count": null,
   "metadata": {},
   "outputs": [],
   "source": []
  }
 ],
 "metadata": {
  "kernelspec": {
   "display_name": "Python 3",
   "language": "python",
   "name": "python3"
  },
  "language_info": {
   "codemirror_mode": {
    "name": "ipython",
    "version": 3
   },
   "file_extension": ".py",
   "mimetype": "text/x-python",
   "name": "python",
   "nbconvert_exporter": "python",
   "pygments_lexer": "ipython3",
   "version": "3.6.4"
  }
 },
 "nbformat": 4,
 "nbformat_minor": 2
}
