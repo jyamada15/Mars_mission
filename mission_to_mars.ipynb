{
 "cells": [
  {
   "cell_type": "code",
   "execution_count": 96,
   "metadata": {},
   "outputs": [],
   "source": [
    "import os\n",
    "from bs4 import BeautifulSoup as bs\n",
    "from splinter.exceptions import ElementDoesNotExist\n",
    "from splinter import Browser\n",
    "from selenium import webdriver\n",
    "import re\n",
    "import pandas as pd"
   ]
  },
  {
   "cell_type": "code",
   "execution_count": 97,
   "metadata": {},
   "outputs": [],
   "source": [
    "#executable_path = {\"C:\\\\Users\\\\Jeff\\\\Documents\\\\BootCamp\\\\HW\\\\HW13\\\\Resources\\\\chromedriver.exe\": 'C:\\\\Program Files (x86)\\\\Google\\\\Chrome\\\\Application\\\\chrome.exe'}\n",
    "executable_path = {'executable_path': \"C:\\\\Users\\\\Jeff\\\\Documents\\\\BootCamp\\\\HW\\\\HW13\\\\Resources\\\\chromedriver.exe\"}\n",
    "browser = Browser('chrome', **executable_path,headless=False)\n",
    "#driver = webdriver.Chrome(\"C:\\\\Users\\\\Jeff\\\\Documents\\\\BootCamp\\\\HW\\\\HW13\\\\Resources\\\\chromedriver.exe\")\n",
    "#driver.get('https://mars.nasa.gov/news/');\n",
    "url = 'https://mars.nasa.gov/news/'\n",
    "browser.visit(url)"
   ]
  },
  {
   "cell_type": "code",
   "execution_count": 54,
   "metadata": {},
   "outputs": [],
   "source": [
    "html = browser.html\n",
    "soup = bs(html, 'html.parser')\n",
    "# news_title = []\n",
    "# news_p = []\n"
   ]
  },
  {
   "cell_type": "code",
   "execution_count": 41,
   "metadata": {},
   "outputs": [],
   "source": [
    "# titles_body = soup.find('ul',class_='item_list')\n",
    "# news_headlines = titles_body.find_all('div', class_ = \"content_title\")\n",
    "# news_body = titles_body.find_all('div', class_='article_teaser_body')\n",
    "# for i in news_headlines:\n",
    "#     title = i.text.strip()\n",
    "#     news_title.append(title)\n",
    "    \n",
    "# for i in news_body:\n",
    "#     title_body = i.text.strip()\n",
    "#     news_p.append(title_body)\n",
    "    "
   ]
  },
  {
   "cell_type": "code",
   "execution_count": 55,
   "metadata": {},
   "outputs": [],
   "source": [
    "titles_body = soup.find('ul',class_='item_list')\n",
    "news_title = titles_body.find('div', class_ = \"content_title\").text.strip()\n",
    "news_p = titles_body.find('div', class_='article_teaser_body').text.strip()\n",
    "# for i in news_headlines:\n",
    "#     title = i.text.strip()\n",
    "#     news_title.append(title)\n",
    "    \n",
    "# for i in news_body:\n",
    "#     title_body = i.text.strip()\n",
    "#     news_p.append(title_body)\n",
    "    "
   ]
  },
  {
   "cell_type": "code",
   "execution_count": 56,
   "metadata": {},
   "outputs": [
    {
     "data": {
      "text/plain": [
       "'A pair of NASA CubeSats flying to Mars are opening a new frontier for small spacecraft.'"
      ]
     },
     "execution_count": 56,
     "metadata": {},
     "output_type": "execute_result"
    }
   ],
   "source": [
    "news_p"
   ]
  },
  {
   "cell_type": "code",
   "execution_count": 98,
   "metadata": {},
   "outputs": [],
   "source": [
    "url = 'https://www.jpl.nasa.gov/spaceimages/?search=&category=Mars'\n",
    "browser.visit(url)"
   ]
  },
  {
   "cell_type": "code",
   "execution_count": 99,
   "metadata": {},
   "outputs": [],
   "source": [
    "html = browser.html\n",
    "soup = bs(html, 'html.parser')"
   ]
  },
  {
   "cell_type": "code",
   "execution_count": 93,
   "metadata": {},
   "outputs": [],
   "source": [
    "featured_button=soup.find(\"a\", {\"id\": \"full_image\"})"
   ]
  },
  {
   "cell_type": "code",
   "execution_count": 95,
   "metadata": {},
   "outputs": [
    {
     "name": "stdout",
     "output_type": "stream",
     "text": [
      "['/spaceimages/images/mediumsize/PIA19330_ip.jpg']\n",
      "https://www.jpl.nasa.gov/spaceimages/images/mediumsize/PIA19330_ip.jpg\n"
     ]
    },
    {
     "data": {
      "text/plain": [
       "'/spaceimages/images/mediumsize/PIA19330_ip.jpg'"
      ]
     },
     "execution_count": 95,
     "metadata": {},
     "output_type": "execute_result"
    }
   ],
   "source": [
    "str_fb = str(featured_button)\n",
    "\n",
    "img_string = re.findall(r'data-fancybox-href=\"(.*?)\"',str_fb)\n",
    "print(img_string)\n",
    "string_form_of_link = ''.join(img_string)\n",
    "featured_image_url = ('https://www.jpl.nasa.gov' + string_form_of_link)\n",
    "print(featured_image_url)\n",
    "string_form_of_link"
   ]
  },
  {
   "cell_type": "code",
   "execution_count": 7,
   "metadata": {},
   "outputs": [],
   "source": [
    "# featured_button=soup.find(\"a\", {\"id\": \"full_image\"})\n",
    "# #featured_button"
   ]
  },
  {
   "cell_type": "code",
   "execution_count": 108,
   "metadata": {},
   "outputs": [],
   "source": [
    "footer_body = soup.find('footer')\n",
    "footer_desc = footer_body.find('a', class_='button fancybox')\n",
    "featured_image_desc = footer_desc['data-description']"
   ]
  },
  {
   "cell_type": "code",
   "execution_count": 59,
   "metadata": {},
   "outputs": [
    {
     "name": "stdout",
     "output_type": "stream",
     "text": [
      "['/spaceimages/details.php?id=PIA19382']\n"
     ]
    },
    {
     "data": {
      "text/plain": [
       "'/spaceimages/details.php?id=PIA19382'"
      ]
     },
     "execution_count": 59,
     "metadata": {},
     "output_type": "execute_result"
    }
   ],
   "source": [
    "# str_fb = str(featured_button)\n",
    "\n",
    "# img_string = re.findall(r'data-link=\"(.*?)\" data-title',str_fb)\n",
    "# print(img_string)\n",
    "# string_form_of_link = ''.join(img_string)\n",
    "# featured_image_url = ('https://www.jpl.nasa.gov' + string_form_of_link)\n",
    "# #print(featured_image_url)\n",
    "# string_form_of_link"
   ]
  },
  {
   "cell_type": "code",
   "execution_count": 9,
   "metadata": {},
   "outputs": [],
   "source": [
    "url = 'https://twitter.com/marswxreport?lang=en'\n",
    "browser.visit(url)"
   ]
  },
  {
   "cell_type": "code",
   "execution_count": 10,
   "metadata": {},
   "outputs": [],
   "source": [
    "html = browser.html\n",
    "soup = bs(html, 'html.parser')"
   ]
  },
  {
   "cell_type": "code",
   "execution_count": 11,
   "metadata": {},
   "outputs": [],
   "source": [
    "recent_tweet_info = soup.find('p', class_='TweetTextSize')\n",
    "recent_tweet = recent_tweet_info.text.strip()\n",
    "#print(recent_tweet)\n"
   ]
  },
  {
   "cell_type": "code",
   "execution_count": 12,
   "metadata": {},
   "outputs": [
    {
     "data": {
      "text/plain": [
       "'Sol 2166 (2018-09-09), high -10C/14F, low -72C/-97F, pressure at 8.87 hPa, daylight 05:40-17:56'"
      ]
     },
     "execution_count": 12,
     "metadata": {},
     "output_type": "execute_result"
    }
   ],
   "source": [
    "recent_tweet\n"
   ]
  },
  {
   "cell_type": "code",
   "execution_count": 13,
   "metadata": {},
   "outputs": [],
   "source": [
    "url = 'http://space-facts.com/mars/'\n",
    "browser.visit(url)"
   ]
  },
  {
   "cell_type": "code",
   "execution_count": 14,
   "metadata": {},
   "outputs": [],
   "source": [
    "html = browser.html\n",
    "soup=bs(html,'html.parser')"
   ]
  },
  {
   "cell_type": "code",
   "execution_count": 15,
   "metadata": {},
   "outputs": [],
   "source": [
    "mf_list = []\n",
    "mf_equatorial_diameter = []\n",
    "mf_polar_diameter = []\n",
    "mf_mass = []\n",
    "mf_moons = []\n",
    "mf_orbit_distance = []\n",
    "mf_orbit_period = []\n",
    "mf_surface_temperature = []\n",
    "mf_first_record = []\n",
    "mf_recorded_by = []"
   ]
  },
  {
   "cell_type": "code",
   "execution_count": 16,
   "metadata": {},
   "outputs": [],
   "source": [
    "# mf_pd = pd.DataFrame(columns=['Equatorial Diameter','Polar Diameter', 'Mass', 'Moons', 'Orbit Distance','Orbit Period', 'Surface Temperature', 'First Record', 'Recorded By'])\n",
    "mf_pd = pd.DataFrame(columns=['Description','Value'])\n",
    "mf_desc_list = ['Equatorial Diameter','Polar Diameter', 'Mass', 'Moons', 'Orbit Distance','Orbit Period', 'Surface Temperature', 'First Record', 'Recorded By']"
   ]
  },
  {
   "cell_type": "code",
   "execution_count": 17,
   "metadata": {},
   "outputs": [
    {
     "data": {
      "text/plain": [
       "['6,792 km',\n",
       " '6,752 km',\n",
       " '6.42 x 10^23 kg (10.7% Earth)',\n",
       " '2 (Phobos & Deimos)',\n",
       " '227,943,824 km (1.52 AU)',\n",
       " '687 days (1.9 years)',\n",
       " '-153 to 20 °C',\n",
       " '2nd millennium BC',\n",
       " 'Egyptian astronomers']"
      ]
     },
     "execution_count": 17,
     "metadata": {},
     "output_type": "execute_result"
    }
   ],
   "source": [
    "table_body = soup.find('table', id='tablepress-mars')\n",
    "table_body2 = table_body.find_all('tr')\n",
    "\n",
    "for row in table_body.findAll('tr'):\n",
    "    cells = row.findAll('td')\n",
    "    info = cells[1].text.strip()\n",
    "    mf_list.append(info)\n",
    "    \n",
    "# mf_list"
   ]
  },
  {
   "cell_type": "code",
   "execution_count": 18,
   "metadata": {
    "scrolled": true
   },
   "outputs": [
    {
     "data": {
      "text/html": [
       "<div>\n",
       "<style scoped>\n",
       "    .dataframe tbody tr th:only-of-type {\n",
       "        vertical-align: middle;\n",
       "    }\n",
       "\n",
       "    .dataframe tbody tr th {\n",
       "        vertical-align: top;\n",
       "    }\n",
       "\n",
       "    .dataframe thead th {\n",
       "        text-align: right;\n",
       "    }\n",
       "</style>\n",
       "<table border=\"1\" class=\"dataframe\">\n",
       "  <thead>\n",
       "    <tr style=\"text-align: right;\">\n",
       "      <th></th>\n",
       "      <th>Description</th>\n",
       "      <th>Value</th>\n",
       "    </tr>\n",
       "  </thead>\n",
       "  <tbody>\n",
       "    <tr>\n",
       "      <th>0</th>\n",
       "      <td>Equatorial Diameter</td>\n",
       "      <td>6,792 km</td>\n",
       "    </tr>\n",
       "    <tr>\n",
       "      <th>1</th>\n",
       "      <td>Polar Diameter</td>\n",
       "      <td>6,752 km</td>\n",
       "    </tr>\n",
       "    <tr>\n",
       "      <th>2</th>\n",
       "      <td>Mass</td>\n",
       "      <td>6.42 x 10^23 kg (10.7% Earth)</td>\n",
       "    </tr>\n",
       "    <tr>\n",
       "      <th>3</th>\n",
       "      <td>Moons</td>\n",
       "      <td>2 (Phobos &amp; Deimos)</td>\n",
       "    </tr>\n",
       "    <tr>\n",
       "      <th>4</th>\n",
       "      <td>Orbit Distance</td>\n",
       "      <td>227,943,824 km (1.52 AU)</td>\n",
       "    </tr>\n",
       "    <tr>\n",
       "      <th>5</th>\n",
       "      <td>Orbit Period</td>\n",
       "      <td>687 days (1.9 years)</td>\n",
       "    </tr>\n",
       "    <tr>\n",
       "      <th>6</th>\n",
       "      <td>Surface Temperature</td>\n",
       "      <td>-153 to 20 °C</td>\n",
       "    </tr>\n",
       "    <tr>\n",
       "      <th>7</th>\n",
       "      <td>First Record</td>\n",
       "      <td>2nd millennium BC</td>\n",
       "    </tr>\n",
       "    <tr>\n",
       "      <th>8</th>\n",
       "      <td>Recorded By</td>\n",
       "      <td>Egyptian astronomers</td>\n",
       "    </tr>\n",
       "  </tbody>\n",
       "</table>\n",
       "</div>"
      ],
      "text/plain": [
       "           Description                          Value\n",
       "0  Equatorial Diameter                       6,792 km\n",
       "1       Polar Diameter                       6,752 km\n",
       "2                 Mass  6.42 x 10^23 kg (10.7% Earth)\n",
       "3                Moons            2 (Phobos & Deimos)\n",
       "4       Orbit Distance       227,943,824 km (1.52 AU)\n",
       "5         Orbit Period           687 days (1.9 years)\n",
       "6  Surface Temperature                  -153 to 20 °C\n",
       "7         First Record              2nd millennium BC\n",
       "8          Recorded By           Egyptian astronomers"
      ]
     },
     "execution_count": 18,
     "metadata": {},
     "output_type": "execute_result"
    }
   ],
   "source": [
    "mf_pd['Description']=mf_desc_list\n",
    "mf_pd['Value']=mf_list\n",
    "# mf_pd\n"
   ]
  },
  {
   "cell_type": "code",
   "execution_count": 19,
   "metadata": {},
   "outputs": [],
   "source": [
    "html_mf_pd = mf_pd.to_html()"
   ]
  },
  {
   "cell_type": "code",
   "execution_count": 20,
   "metadata": {},
   "outputs": [],
   "source": [
    "url = 'https://astrogeology.usgs.gov/search/results?q=hemisphere+enhanced&k1=target&v1=Mars'\n",
    "base_url = 'https://astrogeology.usgs.gov'\n",
    "browser.visit(url)"
   ]
  },
  {
   "cell_type": "code",
   "execution_count": 21,
   "metadata": {},
   "outputs": [],
   "source": [
    "html = browser.html\n",
    "soup=bs(html,'html.parser')"
   ]
  },
  {
   "cell_type": "code",
   "execution_count": 22,
   "metadata": {},
   "outputs": [
    {
     "data": {
      "text/plain": [
       "['/search/map/Mars/Viking/cerberus_enhanced',\n",
       " '/search/map/Mars/Viking/schiaparelli_enhanced',\n",
       " '/search/map/Mars/Viking/syrtis_major_enhanced',\n",
       " '/search/map/Mars/Viking/valles_marineris_enhanced']"
      ]
     },
     "execution_count": 22,
     "metadata": {},
     "output_type": "execute_result"
    }
   ],
   "source": [
    "hemisphere_image_urls = []\n",
    "\n",
    "hemisphere_links = []\n",
    "item_body = soup.find('div', class_='collapsible results')\n",
    "item_link = item_body.findAll('div', class_='item')\n",
    "\n",
    "for links in item_link:\n",
    "    for link in links.find_all('a', text=True):\n",
    "        link2 = link.get('href')\n",
    "        hemisphere_links.append(link2)\n",
    "    \n",
    "# hemisphere_links \n"
   ]
  },
  {
   "cell_type": "code",
   "execution_count": null,
   "metadata": {},
   "outputs": [],
   "source": []
  },
  {
   "cell_type": "code",
   "execution_count": 23,
   "metadata": {
    "scrolled": true
   },
   "outputs": [
    {
     "data": {
      "text/plain": [
       "[{'img_url': 'http://astropedia.astrogeology.usgs.gov/download/Mars/Viking/cerberus_enhanced.tif/full.jpg',\n",
       "  'title': 'Cerberus Hemisphere Enhanced'},\n",
       " {'img_url': 'http://astropedia.astrogeology.usgs.gov/download/Mars/Viking/schiaparelli_enhanced.tif/full.jpg',\n",
       "  'title': 'Schiaparelli Hemisphere Enhanced'},\n",
       " {'img_url': 'http://astropedia.astrogeology.usgs.gov/download/Mars/Viking/syrtis_major_enhanced.tif/full.jpg',\n",
       "  'title': 'Syrtis Major Hemisphere Enhanced'},\n",
       " {'img_url': 'http://astropedia.astrogeology.usgs.gov/download/Mars/Viking/valles_marineris_enhanced.tif/full.jpg',\n",
       "  'title': 'Valles Marineris Hemisphere Enhanced'}]"
      ]
     },
     "execution_count": 23,
     "metadata": {},
     "output_type": "execute_result"
    }
   ],
   "source": [
    "for link in range(len(hemisphere_links)):\n",
    "    hemisphere_dict = {}\n",
    "    new_url = base_url+hemisphere_links[link]\n",
    "    browser.visit(new_url)\n",
    "    sample_img= browser.find_link_by_text('Sample').first\n",
    "    hemisphere_dict['img_url'] = sample_img['href']\n",
    "    \n",
    "    html = browser.html\n",
    "    soup = bs(html,'html.parser')\n",
    "    title=soup.find('h2', class_='title').text.strip()\n",
    "    hemisphere_dict['title'] = title\n",
    "    hemisphere_image_urls.append(hemisphere_dict)\n",
    "    browser.visit(url)    \n",
    "    \n",
    "# hemisphere_image_urls"
   ]
  },
  {
   "cell_type": "code",
   "execution_count": 24,
   "metadata": {},
   "outputs": [],
   "source": [
    "browser.quit()"
   ]
  },
  {
   "cell_type": "code",
   "execution_count": 31,
   "metadata": {},
   "outputs": [
    {
     "name": "stderr",
     "output_type": "stream",
     "text": [
      "[TerminalIPythonApp] WARNING | Subcommand `ipython nbconvert` is deprecated and will be removed in future versions.\n",
      "[TerminalIPythonApp] WARNING | You likely want to use `jupyter nbconvert` in the future\n",
      "[NbConvertApp] Converting notebook mission_to_mars.ipynb to python\n",
      "[NbConvertApp] Writing 5532 bytes to mission_to_mars.py\n"
     ]
    }
   ],
   "source": [
    "!ipython nbconvert --to=python mission_to_mars.ipynb"
   ]
  },
  {
   "cell_type": "code",
   "execution_count": 25,
   "metadata": {},
   "outputs": [],
   "source": [
    "# for link in range(len(hemisphere_links)):\n",
    "#     hemisphere_dict = {}\n",
    "#     browser.hemisphere_links[link].click()\n",
    "#     sample_img= browser.find_link_by_text('Sample').first\n",
    "#     hemisphere_dict['img_url'] = sample_img['href']\n",
    "    \n",
    "#     html = browser.html\n",
    "#     soup = bs(html,'html.parser')\n",
    "#     title=soup.find('h2', class_='title')\n",
    "#     hemisphere_dict['title'] = title\n",
    "#     hemisphere_image_urls.append(hemisphere_dict)\n",
    "#     browser.back()\n",
    "    \n",
    "# hemisphere_image_urls"
   ]
  },
  {
   "cell_type": "code",
   "execution_count": 26,
   "metadata": {},
   "outputs": [],
   "source": [
    "# html = browser.html\n",
    "# soup = bs(html,'html.parser')\n",
    "# html_body = soup.find('div', class_='downloads')\n",
    "# html_list = html_body.find('a')\n",
    "# link2 = link.get('href')\n",
    "# link2"
   ]
  },
  {
   "cell_type": "code",
   "execution_count": 27,
   "metadata": {},
   "outputs": [],
   "source": [
    "# html = browser.html\n",
    "# soup = bs(html,'html.parser')\n",
    "# link3=soup.find('h2', class_='title')\n",
    "# print(link3)"
   ]
  },
  {
   "cell_type": "code",
   "execution_count": 28,
   "metadata": {},
   "outputs": [],
   "source": [
    "#<img class=\"thumb\" src=\"/cache/images/dfaf3849e74bf973b59eb50dab52b583_cerberus_enhanced.tif_thumb.png\" alt=\"Cerberus Hemisphere Enhanced thumbnail\">"
   ]
  },
  {
   "cell_type": "code",
   "execution_count": 29,
   "metadata": {},
   "outputs": [],
   "source": [
    "#<a target=\"_blank\" href=\"http://astropedia.astrogeology.usgs.gov/download/Mars/Viking/cerberus_enhanced.tif\">Original</a>"
   ]
  },
  {
   "cell_type": "code",
   "execution_count": 37,
   "metadata": {},
   "outputs": [],
   "source": []
  },
  {
   "cell_type": "code",
   "execution_count": 35,
   "metadata": {},
   "outputs": [
    {
     "name": "stdout",
     "output_type": "stream",
     "text": [
      "Collecting flask_pymongo\n",
      "  Downloading https://files.pythonhosted.org/packages/ce/67/1d9c6d6c713aa78f465bdfda071aef58cba26e3fbdb033c9c5b2f234fa38/Flask_PyMongo-2.1.0-py2.py3-none-any.whl\n",
      "Collecting PyMongo>=3.0 (from flask_pymongo)\n",
      "  Downloading https://files.pythonhosted.org/packages/d4/2d/45524c8cc77b843ace9d75be604e0aba7efd4113effcb504d22de4613845/pymongo-3.7.1-cp34-cp34m-win_amd64.whl (308kB)\n",
      "Requirement already satisfied (use --upgrade to upgrade): Flask>=0.11 in c:\\python34\\lib\\site-packages (from flask_pymongo)\n",
      "Requirement already satisfied (use --upgrade to upgrade): itsdangerous>=0.24 in c:\\python34\\lib\\site-packages (from Flask>=0.11->flask_pymongo)\n",
      "Requirement already satisfied (use --upgrade to upgrade): click>=5.1 in c:\\python34\\lib\\site-packages (from Flask>=0.11->flask_pymongo)\n",
      "Requirement already satisfied (use --upgrade to upgrade): Werkzeug>=0.14 in c:\\python34\\lib\\site-packages (from Flask>=0.11->flask_pymongo)\n",
      "Requirement already satisfied (use --upgrade to upgrade): Jinja2>=2.10 in c:\\python34\\lib\\site-packages (from Flask>=0.11->flask_pymongo)\n",
      "Requirement already satisfied (use --upgrade to upgrade): MarkupSafe>=0.23 in c:\\python34\\lib\\site-packages (from Jinja2>=2.10->Flask>=0.11->flask_pymongo)\n",
      "Installing collected packages: PyMongo, flask-pymongo\n",
      "Successfully installed PyMongo-3.7.1 flask-pymongo-2.1.0\n"
     ]
    },
    {
     "name": "stderr",
     "output_type": "stream",
     "text": [
      "  Cache entry deserialization failed, entry ignored\n",
      "You are using pip version 8.1.2, however version 18.0 is available.\n",
      "You should consider upgrading via the 'python -m pip install --upgrade pip' command.\n"
     ]
    }
   ],
   "source": []
  },
  {
   "cell_type": "code",
   "execution_count": null,
   "metadata": {},
   "outputs": [],
   "source": []
  }
 ],
 "metadata": {
  "kernelspec": {
   "display_name": "Python 3",
   "language": "python",
   "name": "python3"
  },
  "language_info": {
   "codemirror_mode": {
    "name": "ipython",
    "version": 3
   },
   "file_extension": ".py",
   "mimetype": "text/x-python",
   "name": "python",
   "nbconvert_exporter": "python",
   "pygments_lexer": "ipython3",
   "version": "3.6.4"
  }
 },
 "nbformat": 4,
 "nbformat_minor": 2
}
